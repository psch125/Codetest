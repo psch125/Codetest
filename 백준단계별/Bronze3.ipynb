{
 "cells": [
  {
   "cell_type": "code",
   "execution_count": 1,
   "id": "938e03b4",
   "metadata": {},
   "outputs": [
    {
     "name": "stdout",
     "output_type": "stream",
     "text": [
      "1 2 3 4\n",
      "1\n"
     ]
    }
   ],
   "source": [
    "#1085 \n",
    "x,y,w,h= map(int, input().split())\n",
    "height1 = h - y\n",
    "height2 = y\n",
    "width1 = w - x\n",
    "width2 = x\n",
    "distance = [height1, height2, width1, width2]\n",
    "# if w > x and h > y :\n",
    "distance.sort()\n",
    "print(distance[0])"
   ]
  },
  {
   "cell_type": "code",
   "execution_count": 1,
   "id": "6d83507d",
   "metadata": {},
   "outputs": [
    {
     "name": "stdout",
     "output_type": "stream",
     "text": [
      "0 32\n",
      "3 13\n",
      "28 25\n",
      "39 0\n",
      "42\n"
     ]
    }
   ],
   "source": [
    "#1247\n",
    "a = []\n",
    "num = 0\n",
    "for i in range(4) :\n",
    "    minus, add = map(int, input().split())\n",
    "    num -= minus\n",
    "    num += add\n",
    "    a.append(num)\n",
    "a.sort()\n",
    "print(a[3])"
   ]
  },
  {
   "cell_type": "code",
   "execution_count": 13,
   "id": "89946edc",
   "metadata": {},
   "outputs": [
    {
     "name": "stdout",
     "output_type": "stream",
     "text": [
      "3\n",
      "61 61 61\n",
      "Y M 90\n"
     ]
    }
   ],
   "source": [
    "#1267 \n",
    "N = int(input())\n",
    "time = list(map(int, input().split()))\n",
    "Y = 0\n",
    "M = 0\n",
    "for i in time :\n",
    "    money1 = 10 +(i // 30) * 10\n",
    "    Y += money1\n",
    "    money2 = 15 +(i // 60) * 15\n",
    "    M += money2\n",
    "\n",
    "if Y > M :\n",
    "    print('M', M)\n",
    "if M > Y :\n",
    "    print('Y', Y)\n",
    "if Y == M :\n",
    "    print('Y M', Y)\n",
    "  \n",
    "\n",
    "    "
   ]
  },
  {
   "cell_type": "code",
   "execution_count": null,
   "id": "947062e4",
   "metadata": {},
   "outputs": [],
   "source": []
  }
 ],
 "metadata": {
  "kernelspec": {
   "display_name": "Python 3 (ipykernel)",
   "language": "python",
   "name": "python3"
  },
  "language_info": {
   "codemirror_mode": {
    "name": "ipython",
    "version": 3
   },
   "file_extension": ".py",
   "mimetype": "text/x-python",
   "name": "python",
   "nbconvert_exporter": "python",
   "pygments_lexer": "ipython3",
   "version": "3.9.7"
  }
 },
 "nbformat": 4,
 "nbformat_minor": 5
}
