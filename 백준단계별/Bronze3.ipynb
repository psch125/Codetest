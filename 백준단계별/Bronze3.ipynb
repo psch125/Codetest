{
 "cells": [
  {
   "cell_type": "code",
   "execution_count": 1,
   "id": "938e03b4",
   "metadata": {},
   "outputs": [
    {
     "name": "stdout",
     "output_type": "stream",
     "text": [
      "1 2 3 4\n",
      "1\n"
     ]
    }
   ],
   "source": [
    "#1085 \n",
    "x,y,w,h= map(int, input().split())\n",
    "height1 = h - y\n",
    "height2 = y\n",
    "width1 = w - x\n",
    "width2 = x\n",
    "distance = [height1, height2, width1, width2]\n",
    "# if w > x and h > y :\n",
    "distance.sort()\n",
    "print(distance[0])"
   ]
  },
  {
   "cell_type": "code",
   "execution_count": 1,
   "id": "6d83507d",
   "metadata": {},
   "outputs": [
    {
     "name": "stdout",
     "output_type": "stream",
     "text": [
      "0 32\n",
      "3 13\n",
      "28 25\n",
      "39 0\n",
      "42\n"
     ]
    }
   ],
   "source": [
    "#1247\n",
    "a = []\n",
    "num = 0\n",
    "for i in range(4) :\n",
    "    minus, add = map(int, input().split())\n",
    "    num -= minus\n",
    "    num += add\n",
    "    a.append(num)\n",
    "a.sort()\n",
    "print(a[3])"
   ]
  },
  {
   "cell_type": "code",
   "execution_count": 13,
   "id": "3d8f3db4",
   "metadata": {},
   "outputs": [
    {
     "name": "stdout",
     "output_type": "stream",
     "text": [
      "3\n",
      "61 61 61\n",
      "Y M 90\n"
     ]
    }
   ],
   "source": [
    "#1267 \n",
    "N = int(input())\n",
    "time = list(map(int, input().split()))\n",
    "Y = 0\n",
    "M = 0\n",
    "for i in time :\n",
    "    money1 = 10 +(i // 30) * 10\n",
    "    Y += money1\n",
    "    money2 = 15 +(i // 60) * 15\n",
    "    M += money2\n",
    "\n",
    "if Y > M :\n",
    "    print('M', M)\n",
    "if M > Y :\n",
    "    print('Y', Y)\n",
    "if Y == M :\n",
    "    print('Y M', Y)\n",
    "  \n",
    "\n",
    "    "
   ]
  },
  {
   "cell_type": "code",
   "execution_count": 3,
   "id": "b31088d2",
   "metadata": {},
   "outputs": [
    {
     "name": "stdout",
     "output_type": "stream",
     "text": [
      "120\n",
      "13\n",
      "5611\n",
      "15\n",
      "100\n",
      "14\n",
      "0\n"
     ]
    }
   ],
   "source": [
    "#1284\n",
    "while True :\n",
    "    N = int(input())\n",
    "    if N == 0 :\n",
    "        break\n",
    "    else :\n",
    "        answer = len(str(N))+1\n",
    "        for i in str(N) :\n",
    "            if i == '1' :\n",
    "                answer += 2\n",
    "            elif i == '0' :\n",
    "                answer += 4\n",
    "            else :\n",
    "                answer += 3\n",
    "        print(answer)"
   ]
  },
  {
   "cell_type": "code",
   "execution_count": 14,
   "id": "fcdebf2d",
   "metadata": {},
   "outputs": [
    {
     "name": "stdout",
     "output_type": "stream",
     "text": [
      "2\n",
      "1 2\n",
      "3 1\n",
      "{'a': 2, 'b': 3, 'c': 1}\n"
     ]
    }
   ],
   "source": [
    "# 1547\n",
    "N = int(input())\n",
    "mydict = {'a':1, 'b':2, 'c':3}\n",
    "for i in range(N) :\n",
    "    X,Y = map(int, input().split())\n",
    "    if X == Y :\n",
    "        pass\n",
    "    else :\n",
    "        for key,value in mydict.items() :\n",
    "            if value == X :\n",
    "                X_key = key\n",
    "            if value == Y :\n",
    "                Y_key = key\n",
    "        mydict[X_key] = Y\n",
    "        mydict[Y_key] = X\n",
    "print(mydict['a'])\n",
    "    "
   ]
  },
  {
   "cell_type": "code",
   "execution_count": null,
   "id": "418b60af",
   "metadata": {},
   "outputs": [],
   "source": []
  }
 ],
 "metadata": {
  "kernelspec": {
   "display_name": "Python 3 (ipykernel)",
   "language": "python",
   "name": "python3"
  },
  "language_info": {
   "codemirror_mode": {
    "name": "ipython",
    "version": 3
   },
   "file_extension": ".py",
   "mimetype": "text/x-python",
   "name": "python",
   "nbconvert_exporter": "python",
   "pygments_lexer": "ipython3",
   "version": "3.9.7"
  }
 },
 "nbformat": 4,
 "nbformat_minor": 5
}
