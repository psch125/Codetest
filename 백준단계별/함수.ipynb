{
 "cells": [
  {
   "cell_type": "code",
   "execution_count": null,
   "metadata": {},
   "outputs": [],
   "source": [
    "# 15598\n",
    "def solve(a):\n",
    "    ans = sum(a)\n",
    "    return ans\n",
    "\n",
    "#4673 -3\n",
    "dn = []\n",
    "for i in range(1,10001) :\n",
    "  n = i\n",
    "  str_n = str(n)\n",
    "  if n < 10 :\n",
    "    dn.append(n + int(str_n))\n",
    "  elif n < 100 :\n",
    "    dn.append(n + int(str_n[0]) + int(str_n[1]))\n",
    "  elif n < 1000 :\n",
    "    dn.append(n + int(str_n[0]) +int(str_n[1])+int(str_n[2]))\n",
    "  else :\n",
    "    dn.append(n+int(str_n[0])+int(str_n[1])+int(str_n[2])+int(str_n[3]))\n",
    "set(dn)\n",
    "for i in range(1,10001) :\n",
    "  if i not in dn :\n",
    "    print(i)\n",
    "    \n",
    "#1065\n",
    "N = int(input())\n",
    "number = 0\n",
    "for i in range(1,N+1) :\n",
    "  if i < 10 :\n",
    "    number = number+1\n",
    "  elif i < 100 :\n",
    "    number = number+1\n",
    "  elif i < 1000 :\n",
    "    if int(str(i)[0]) - int(str(i)[1]) == int(str(i)[1]) - int(str(i)[2]) :\n",
    "      number = number+1\n",
    "print(number)\n",
    "\n"
   ]
  }
 ],
 "metadata": {
  "kernelspec": {
   "display_name": "Python 3",
   "language": "python",
   "name": "python3"
  },
  "language_info": {
   "codemirror_mode": {
    "name": "ipython",
    "version": 3
   },
   "file_extension": ".py",
   "mimetype": "text/x-python",
   "name": "python",
   "nbconvert_exporter": "python",
   "pygments_lexer": "ipython3",
   "version": "3.8.5"
  }
 },
 "nbformat": 4,
 "nbformat_minor": 4
}
